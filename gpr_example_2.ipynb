{
 "cells": [
  {
   "cell_type": "code",
   "execution_count": 1,
   "metadata": {},
   "outputs": [],
   "source": [
    "# Another simple example usage of Gaussian Process\n",
    "# essentially copied the example from Scikit-learn site:\n",
    "# http://scikit-learn.org/stable/auto_examples/gaussian_process/plot_gpr_noisy_targets.html\n",
    "\n",
    "from sklearn.gaussian_process import GaussianProcessRegressor\n",
    "import numpy as np\n",
    "from sklearn.gaussian_process.kernels import RBF, ConstantKernel as C"
   ]
  },
  {
   "cell_type": "code",
   "execution_count": 2,
   "metadata": {},
   "outputs": [
    {
     "data": {
      "text/plain": [
       "array([-1.   ,  0.   , -0.9  ,  0.12 , -0.8  ,  0.15 , -0.7  ,  0.23 ,\n",
       "       -0.6  ,  0.26 , -0.5  ,  0.29 , -0.4  ,  0.31 , -0.3  ,  0.35 ,\n",
       "       -0.2  ,  0.4  , -0.1  ,  0.46 , -0.   ,  0.52 ,  0.1  ,  0.6  ,\n",
       "        0.2  ,  0.65 ,  0.3  ,  0.72 ,  0.4  ,  0.74 ,  0.5  ,  0.85 ,\n",
       "        0.6  ,  0.875,  0.7  ,  0.9  ,  0.8  ,  0.925,  0.9  ,  0.95 ,\n",
       "        1.   ,  1.   ])"
      ]
     },
     "execution_count": 2,
     "metadata": {},
     "output_type": "execute_result"
    }
   ],
   "source": [
    "# Contrived dataset. Each datapoint is 2d (x,y) where x is in [-1,1] and y is in [0,1]\n",
    "X= np.array([-1,0, -0.9,0.12, -0.8,0.15, -0.7,0.23, -0.6,0.26, -0.5,0.29, -0.4,0.31, -0.3,0.35, -0.2,0.4, -0.1,0.46, -0.0,0.52, 0.1,0.6, 0.2,0.65, 0.3,0.72, 0.4,0.74, 0.5,0.85, 0.6,0.875, 0.7,0.9, 0.8,0.925, 0.9,0.95, 1.0,1.0])\n",
    "X"
   ]
  },
  {
   "cell_type": "code",
   "execution_count": 3,
   "metadata": {},
   "outputs": [],
   "source": [
    "#function is z = sin(x^2 - 2.1*y)\n",
    "X= X.reshape(21,2)\n",
    "y=np.sin(X.T[0]**2 -2.1*X.T[1])\n",
    "y=np.atleast_2d(y).T.ravel()"
   ]
  },
  {
   "cell_type": "code",
   "execution_count": 6,
   "metadata": {},
   "outputs": [],
   "source": [
    "kernel = C(1.0, (1e-2, 1e2)) * RBF(0.5, (1e-2, 1e2))\n",
    "gp = GaussianProcessRegressor(kernel=kernel, n_restarts_optimizer=1)"
   ]
  },
  {
   "cell_type": "code",
   "execution_count": 8,
   "metadata": {},
   "outputs": [
    {
     "data": {
      "text/plain": [
       "GaussianProcessRegressor(alpha=1e-10, copy_X_train=True,\n",
       "             kernel=1**2 * RBF(length_scale=0.5), n_restarts_optimizer=1,\n",
       "             normalize_y=False, optimizer='fmin_l_bfgs_b',\n",
       "             random_state=None)"
      ]
     },
     "execution_count": 8,
     "metadata": {},
     "output_type": "execute_result"
    }
   ],
   "source": [
    "gp.fit(X, y)"
   ]
  },
  {
   "cell_type": "code",
   "execution_count": 9,
   "metadata": {},
   "outputs": [
    {
     "data": {
      "text/plain": [
       "array([[-0.95 ,  0.   ],\n",
       "       [-0.923,  0.   ],\n",
       "       [-0.921,  0.   ],\n",
       "       [-0.78 ,  0.   ],\n",
       "       [-0.701,  0.   ],\n",
       "       [-0.6  ,  0.   ],\n",
       "       [-0.554,  0.   ],\n",
       "       [-0.4  ,  0.   ],\n",
       "       [-0.344,  0.   ],\n",
       "       [-0.32 ,  0.   ],\n",
       "       [-0.25 ,  0.   ],\n",
       "       [-0.175,  0.   ],\n",
       "       [-0.105,  0.   ],\n",
       "       [-0.001,  0.   ],\n",
       "       [ 0.12 ,  0.   ],\n",
       "       [ 0.225,  0.   ],\n",
       "       [ 0.53 ,  0.   ],\n",
       "       [ 0.659,  0.   ],\n",
       "       [ 0.7  ,  0.   ],\n",
       "       [ 0.93 ,  0.   ]])"
      ]
     },
     "execution_count": 9,
     "metadata": {},
     "output_type": "execute_result"
    }
   ],
   "source": [
    "x = np.array([-0.95,0,-0.923,0, -0.921,0, -0.78,0, -0.701,0, -0.6,0, -0.554,0, -0.4,0, -0.344,0, -0.32,0, -0.25,0, -0.175,0, -0.105,0, -0.001,0, 0.12,0, 0.225, 0, 0.53,0, 0.659,0, 0.70,0, 0.93,0 ]).reshape(20,2)\n",
    "\n",
    "ypred, sigma = gp.predict(x, return_std=True)\n",
    "x"
   ]
  },
  {
   "cell_type": "code",
   "execution_count": 10,
   "metadata": {},
   "outputs": [
    {
     "data": {
      "text/plain": [
       "<matplotlib.legend.Legend at 0x7f22d962e250>"
      ]
     },
     "execution_count": 10,
     "metadata": {},
     "output_type": "execute_result"
    }
   ],
   "source": [
    "# each datapoint in the test set is (x,0). Clearly when x is closer to -1, the variance should be smaller, because the\n",
    "# training set contained a lot fo points near this point. Points near x=1 have much higher variance - lower confidence - \n",
    "# because there is no sample datapoints around this region.\n",
    "from matplotlib import pyplot as plt\n",
    "fig = plt.figure()\n",
    "#plt.plot(x, y, 'r:', label=u'$f(x) = x\\,\\sin(x)$')\n",
    "plt.plot(X.T[0], y, 'r.', markersize=10, label=u'Observations')\n",
    "plt.plot(x.T[0], ypred, 'b-', label=u'Prediction')\n",
    "plt.fill(np.concatenate([x, x[::-1]]),\n",
    "         np.concatenate([ypred - 1.9600 * sigma,\n",
    "                        (ypred + 1.9600 * sigma)[::-1]]),\n",
    "         alpha=.5, fc='b', ec='None', label='95% confidence interval')\n",
    "plt.xlabel('$x$')\n",
    "plt.ylabel('$z$')\n",
    "plt.ylim(-1.1, 1.1)\n",
    "plt.legend(loc='upper left')"
   ]
  },
  {
   "cell_type": "code",
   "execution_count": 82,
   "metadata": {},
   "outputs": [
    {
     "data": {
      "text/plain": [
       "<matplotlib.legend.Legend at 0x109160d90>"
      ]
     },
     "execution_count": 82,
     "metadata": {},
     "output_type": "execute_result"
    },
    {
     "data": {
      "image/png": "[encoded data removed]",
      "text/plain": [
       "<matplotlib.figure.Figure at 0x108444c50>"
      ]
     },
     "metadata": {},
     "output_type": "display_data"
    }
   ],
   "source": [
    "x2 = np.array([0.5, 0.0, 0.5, 0.15, 0.5, 0.225, 0.5, 0.42, 0.5, 0.45, 0.5, 0.54, 0.5, 0.58, 0.5, 0.63, 0.5, 0.7, 0.5, 0.725, 0.5, 0.795, 0.5, 0.85, 0.5, 0.887, 0.5, 0.95]).reshape(14,2)\n",
    "ypred2, sigma2 = gp.predict(x2, return_std=True)\n",
    "\n",
    "\n",
    "from matplotlib import pyplot as plt\n",
    "fig = plt.figure()\n",
    "#plt.plot(x, y, 'r:', label=u'$f(x) = x\\,\\sin(x)$')\n",
    "plt.plot(X.T[1], y, 'r.', markersize=10, label=u'Observations')\n",
    "plt.plot(x2.T[1], ypred2, 'b-', label=u'Prediction')\n",
    "plt.fill(np.concatenate([x2, x2[::-1]]),\n",
    "         np.concatenate([ypred2 - 1.9600 * sigma2,\n",
    "                        (ypred2 + 1.9600 * sigma2)[::-1]]),\n",
    "         alpha=.5, fc='b', ec='None', label='95% confidence interval')\n",
    "plt.xlabel('$y$')\n",
    "plt.ylabel('$z$')\n",
    "plt.ylim(-1.1, 1.1)\n",
    "plt.legend(loc='upper left')"
   ]
  }
 ],
 "metadata": {
  "kernelspec": {
   "display_name": "Python 2",
   "language": "python",
   "name": "python2"
  },
  "language_info": {
   "codemirror_mode": {
    "name": "ipython",
    "version": 2
   },
   "file_extension": ".py",
   "mimetype": "text/x-python",
   "name": "python",
   "nbconvert_exporter": "python",
   "pygments_lexer": "ipython2",
   "version": "2.7.14"
  }
 },
 "nbformat": 4,
 "nbformat_minor": 2
}
